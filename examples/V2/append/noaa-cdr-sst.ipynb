{
 "cells": [
  {
   "cell_type": "markdown",
   "id": "120903d6-ea52-4a1e-83d2-4d434ad2cb98",
   "metadata": {},
   "source": [
    "# Appending to an Icechunk Store with Virtual References\n",
    "This notebook demonstrates how to append to an icechunk store.\n",
    "\n",
    "Please ensure the correct dependencies are installed before starting."
   ]
  },
  {
   "cell_type": "code",
   "execution_count": null,
   "id": "d09bbff3-4e96-4490-b837-14b78b64df35",
   "metadata": {},
   "outputs": [],
   "source": [
    "# !pip install 'virtualizarr['icechunk','hdf']' ipykernel s3fs"
   ]
  },
  {
   "cell_type": "code",
   "execution_count": null,
   "id": "2f69f0bb-316b-452c-b1ba-4d7ef4afcf67",
   "metadata": {},
   "outputs": [],
   "source": [
    "import warnings\n",
    "\n",
    "import fsspec\n",
    "import icechunk\n",
    "import xarray as xr\n",
    "from obstore.store import from_url\n",
    "\n",
    "from virtualizarr import open_virtual_dataset\n",
    "from virtualizarr.parsers import HDFParser\n",
    "from virtualizarr.registry import ObjectStoreRegistry\n",
    "\n",
    "warnings.filterwarnings(\"ignore\", category=UserWarning)"
   ]
  },
  {
   "cell_type": "markdown",
   "id": "0df547e4-456d-44c1-b190-606f0b9e056e",
   "metadata": {},
   "source": [
    "# Before you start\n",
    "\n",
    "Identify the dataset you will be using and create a list of files to generate a virtual icechunk datastore with."
   ]
  },
  {
   "cell_type": "code",
   "execution_count": null,
   "id": "1532c33b-804f-49fa-9fa9-0eb42ea87e26",
   "metadata": {},
   "outputs": [],
   "source": [
    "fs = fsspec.filesystem(\"s3\", anon=True)\n",
    "\n",
    "oisst_files = fs.glob(\n",
    "    \"s3://noaa-cdr-sea-surface-temp-optimum-interpolation-pds/data/v2.1/avhrr/202408/oisst-avhrr-v02r01.*.nc\"\n",
    ")\n",
    "\n",
    "oisst_files = sorted([\"s3://\" + f for f in oisst_files])"
   ]
  },
  {
   "cell_type": "markdown",
   "id": "5f235fc4",
   "metadata": {},
   "source": [
    "### Define our Virtualizarr `Parser` and `ObjectStoreRegistry`"
   ]
  },
  {
   "cell_type": "code",
   "execution_count": null,
   "id": "a343e5b1",
   "metadata": {},
   "outputs": [],
   "source": [
    "bucket = \"s3://noaa-cdr-sea-surface-temp-optimum-interpolation-pds\"\n",
    "store = from_url(bucket, region=\"us-east-1\", skip_signature=True)\n",
    "registry = ObjectStoreRegistry({bucket: store})\n",
    "parser = HDFParser()"
   ]
  },
  {
   "cell_type": "markdown",
   "id": "73ceb93b-b0ac-48b2-928a-84da0d2019ac",
   "metadata": {},
   "source": [
    "## Create virtual datasets with VirtualiZarr's `open_virtual_dataset`"
   ]
  },
  {
   "cell_type": "code",
   "execution_count": null,
   "id": "06bbec92-3974-4859-8bda-353afc7800b9",
   "metadata": {},
   "outputs": [],
   "source": [
    "virtual_datasets = [\n",
    "    open_virtual_dataset(\n",
    "        url=url,\n",
    "        parser=parser,\n",
    "        registry=registry,\n",
    "        loadable_variables=[\"time\", \"lat\", \"lon\", \"zlev\"],\n",
    "    )\n",
    "    for url in oisst_files[0:2]\n",
    "]"
   ]
  },
  {
   "cell_type": "code",
   "execution_count": null,
   "id": "77fb94c8-870f-4c9e-8421-ac9c17402122",
   "metadata": {},
   "outputs": [],
   "source": [
    "virtual_ds = xr.concat(\n",
    "    virtual_datasets,\n",
    "    dim=\"time\",\n",
    "    coords=\"minimal\",\n",
    "    compat=\"override\",\n",
    "    combine_attrs=\"override\",\n",
    ")"
   ]
  },
  {
   "cell_type": "code",
   "execution_count": null,
   "id": "c025f35d",
   "metadata": {},
   "outputs": [],
   "source": [
    "virtual_ds"
   ]
  },
  {
   "cell_type": "code",
   "execution_count": null,
   "id": "abefd6fa-386a-4e07-a7c8-219d3730eeeb",
   "metadata": {},
   "outputs": [],
   "source": [
    "# Clean up the store if running this notebook multiple times.\n",
    "#!rm -rf ./noaa-cdr-icechunk/"
   ]
  },
  {
   "cell_type": "markdown",
   "id": "05f41a0b-6292-419d-a9d3-d8ddf8c0c15b",
   "metadata": {},
   "source": [
    "## Initialize the Icechunk Store"
   ]
  },
  {
   "cell_type": "code",
   "execution_count": null,
   "id": "79a4228a-0e17-4b07-9144-f24fe06db832",
   "metadata": {},
   "outputs": [],
   "source": [
    "storage = icechunk.local_filesystem_storage(\"./noaa-cdr-icechunk\")\n",
    "\n",
    "config = icechunk.RepositoryConfig.default()\n",
    "\n",
    "\n",
    "config.set_virtual_chunk_container(\n",
    "    icechunk.VirtualChunkContainer(\n",
    "        url_prefix=\"s3://noaa-cdr-sea-surface-temp-optimum-interpolation-pds/\",\n",
    "        store=icechunk.s3_store(region=\"us-east-1\", anonymous=True),\n",
    "    ),\n",
    ")\n",
    "\n",
    "repo = icechunk.Repository.create(storage, config)\n",
    "\n",
    "session = repo.writable_session(\"main\")"
   ]
  },
  {
   "cell_type": "markdown",
   "id": "749193c1-38b9-4400-a08f-f0a675d30f06",
   "metadata": {},
   "source": [
    "## Write the virtual datasets to the icechunk store and commit"
   ]
  },
  {
   "cell_type": "code",
   "execution_count": null,
   "id": "9387e1ff-46c1-45fd-9796-0457538209a7",
   "metadata": {},
   "outputs": [],
   "source": [
    "virtual_ds.virtualize.to_icechunk(session.store)"
   ]
  },
  {
   "cell_type": "code",
   "execution_count": null,
   "id": "53a74fb9-006b-4d2b-9157-7090af6c9e09",
   "metadata": {},
   "outputs": [],
   "source": [
    "session.commit(\"first 2 days of 202408 data\")"
   ]
  },
  {
   "cell_type": "markdown",
   "id": "8becd176-1c7d-4c74-a3f1-1b9f55b445a2",
   "metadata": {},
   "source": [
    "## Check your work!"
   ]
  },
  {
   "cell_type": "code",
   "execution_count": null,
   "id": "b6271bd1-bc0b-4901-9901-91aabe508cf7",
   "metadata": {},
   "outputs": [],
   "source": [
    "ds = xr.open_zarr(session.store, consolidated=False, zarr_format=3)\n",
    "ds"
   ]
  },
  {
   "cell_type": "markdown",
   "id": "23dd5a13-9c0e-4132-9073-474c0af65920",
   "metadata": {},
   "source": [
    "# Append\n",
    "\n",
    "That was all nothing new! Basically a repeat of what is in the [icechunk docs](https://icechunk.io/icechunk-python/virtual/). Here we follow the same steps to create a virtual dataset, but we add an `append_dim` argument to the `to_icechunk` function."
   ]
  },
  {
   "cell_type": "code",
   "execution_count": null,
   "id": "190c25f9-e000-4b17-83eb-cf551141dfea",
   "metadata": {},
   "outputs": [],
   "source": [
    "virtual_datasets_a = [\n",
    "    open_virtual_dataset(\n",
    "        url=url,\n",
    "        parser=parser,\n",
    "        registry=registry,\n",
    "        loadable_variables=[\"time\", \"lat\", \"lon\", \"zlev\"],\n",
    "    )\n",
    "    for url in oisst_files[2:4]\n",
    "]"
   ]
  },
  {
   "cell_type": "code",
   "execution_count": null,
   "id": "af330082-207a-4f08-aefe-fc15aa8b2eb3",
   "metadata": {},
   "outputs": [],
   "source": [
    "virtual_ds_a = xr.concat(\n",
    "    virtual_datasets_a,\n",
    "    dim=\"time\",\n",
    "    coords=\"minimal\",\n",
    "    compat=\"override\",\n",
    "    combine_attrs=\"override\",\n",
    ")"
   ]
  },
  {
   "cell_type": "code",
   "execution_count": null,
   "id": "b6137cc1-b996-4e60-8c12-01eb19930da6",
   "metadata": {},
   "outputs": [],
   "source": [
    "append_session = repo.writable_session(\"main\")"
   ]
  },
  {
   "cell_type": "code",
   "execution_count": null,
   "id": "a465be46-bb81-4e36-b1b6-67c3b8e4b9ec",
   "metadata": {},
   "outputs": [],
   "source": [
    "virtual_ds_a.virtualize.to_icechunk(append_session.store, append_dim=\"time\")"
   ]
  },
  {
   "cell_type": "code",
   "execution_count": null,
   "id": "e9908d2f-664b-4256-b9d4-842df2e512c3",
   "metadata": {},
   "outputs": [],
   "source": [
    "append_session.commit(\"wrote 2 more days of data\")"
   ]
  },
  {
   "cell_type": "markdown",
   "id": "e1384e99-c284-4942-a49b-7799802728b0",
   "metadata": {},
   "source": [
    "# Check that it worked!"
   ]
  },
  {
   "cell_type": "code",
   "execution_count": null,
   "id": "477094aa-2094-46e2-ae78-516fc2a51690",
   "metadata": {},
   "outputs": [],
   "source": [
    "read_session = repo.readonly_session(branch=\"main\")"
   ]
  },
  {
   "cell_type": "code",
   "execution_count": null,
   "id": "47a53027-dbae-48aa-85d2-dcbc04e01e61",
   "metadata": {},
   "outputs": [],
   "source": [
    "ds = xr.open_zarr(read_session.store, consolidated=False, zarr_format=3)\n",
    "ds"
   ]
  }
 ],
 "metadata": {
  "kernelspec": {
   "display_name": "Python 3 (ipykernel)",
   "language": "python",
   "name": "python3"
  },
  "language_info": {
   "codemirror_mode": {
    "name": "ipython",
    "version": 3
   },
   "file_extension": ".py",
   "mimetype": "text/x-python",
   "name": "python",
   "nbconvert_exporter": "python",
   "pygments_lexer": "ipython3",
   "version": "3.11.11"
  }
 },
 "nbformat": 4,
 "nbformat_minor": 5
}
